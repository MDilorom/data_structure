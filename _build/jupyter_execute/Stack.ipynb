{
 "cells": [
  {
   "cell_type": "markdown",
   "metadata": {
    "id": "5vW_ps6ZqZVe"
   },
   "source": [
    "# Stack"
   ]
  },
  {
   "cell_type": "markdown",
   "metadata": {
    "id": "axhnjGX3kP8m"
   },
   "source": [
    "## Link Google Drive to Google Colab"
   ]
  },
  {
   "cell_type": "code",
   "execution_count": 1,
   "metadata": {
    "colab": {
     "base_uri": "https://localhost:8080/"
    },
    "executionInfo": {
     "elapsed": 18638,
     "status": "ok",
     "timestamp": 1744094149431,
     "user": {
      "displayName": "Ewha Biostat",
      "userId": "08955403781798893820"
     },
     "user_tz": -540
    },
    "id": "39UxiFashW_R",
    "outputId": "8c39ed9a-f11a-4a93-bea0-3c1730df2432"
   },
   "outputs": [
    {
     "ename": "ModuleNotFoundError",
     "evalue": "No module named 'google.colab'",
     "output_type": "error",
     "traceback": [
      "\u001b[1;31m---------------------------------------------------------------------------\u001b[0m",
      "\u001b[1;31mModuleNotFoundError\u001b[0m                       Traceback (most recent call last)",
      "Cell \u001b[1;32mIn[1], line 1\u001b[0m\n\u001b[1;32m----> 1\u001b[0m \u001b[38;5;28;01mfrom\u001b[39;00m \u001b[38;5;21;01mgoogle\u001b[39;00m\u001b[38;5;21;01m.\u001b[39;00m\u001b[38;5;21;01mcolab\u001b[39;00m \u001b[38;5;28;01mimport\u001b[39;00m drive\n\u001b[0;32m      2\u001b[0m drive\u001b[38;5;241m.\u001b[39mmount(\u001b[38;5;124m'\u001b[39m\u001b[38;5;124m/content/drive\u001b[39m\u001b[38;5;124m'\u001b[39m)\n",
      "\u001b[1;31mModuleNotFoundError\u001b[0m: No module named 'google.colab'"
     ]
    }
   ],
   "source": [
    "from google.colab import drive\n",
    "drive.mount('/content/drive')"
   ]
  },
  {
   "cell_type": "markdown",
   "metadata": {
    "id": "k-sTHlVBhDYd"
   },
   "source": [
    "## Modify sys.path to Import External Modules"
   ]
  },
  {
   "cell_type": "code",
   "execution_count": null,
   "metadata": {
    "id": "kmVGyNeRhDQ3"
   },
   "outputs": [],
   "source": [
    "import sys\n",
    "sys.path.append(\"/content/drive/MyDrive/2025_Teaching/2025_Data_Structures/Code\")"
   ]
  },
  {
   "cell_type": "markdown",
   "metadata": {
    "id": "xdk3VFdnKYAz"
   },
   "source": [
    "# Stack"
   ]
  },
  {
   "cell_type": "markdown",
   "metadata": {
    "id": "hFrqK5fC550O"
   },
   "source": [
    "## Import the ListStack class from the ListStack.py file"
   ]
  },
  {
   "cell_type": "code",
   "execution_count": null,
   "metadata": {
    "colab": {
     "base_uri": "https://localhost:8080/"
    },
    "executionInfo": {
     "elapsed": 13,
     "status": "ok",
     "timestamp": 1744094673492,
     "user": {
      "displayName": "Ewha Biostat",
      "userId": "08955403781798893820"
     },
     "user_tz": -540
    },
    "id": "FiusF9GQ55iB",
    "outputId": "e6df0e3d-c6a1-4c3c-fee5-c644c61c5594"
   },
   "outputs": [
    {
     "name": "stdout",
     "output_type": "stream",
     "text": [
      "Elements from top to bottom: \n",
      "400 300 200 100 \n",
      "Top after pushes:  400\n",
      "Remove an element from top:  400\n",
      "Elements from top to bottom: \n",
      "300 200 100 \n",
      "Is the stack empty? False\n",
      "Number of element in the stack? 3\n"
     ]
    }
   ],
   "source": [
    "# Import the ListStack class from the ListNode.py file\n",
    "from DataStructureCode.ListStack import *\n",
    "stack = ListStack()\n",
    "stack.push(100); stack.push(200); stack.push(300); stack.push(400)\n",
    "stack.printStack()\n",
    "print(\"Top after pushes: \", stack.top())\n",
    "print(\"Remove an element from top: \", stack.pop())\n",
    "stack.printStack()\n",
    "print('Is the stack empty?', stack.isEmpty())\n",
    "print('Number of element in the stack?', stack.size())"
   ]
  },
  {
   "cell_type": "markdown",
   "metadata": {
    "id": "SEfG4X63JIEX"
   },
   "source": [
    "## Import the LinkedStack class from the LinkedStack.py file"
   ]
  },
  {
   "cell_type": "code",
   "execution_count": null,
   "metadata": {
    "colab": {
     "base_uri": "https://localhost:8080/"
    },
    "executionInfo": {
     "elapsed": 659,
     "status": "ok",
     "timestamp": 1744094731885,
     "user": {
      "displayName": "Ewha Biostat",
      "userId": "08955403781798893820"
     },
     "user_tz": -540
    },
    "id": "dIwaQ_zTJH1v",
    "outputId": "d3a5b7ff-8bc6-4007-9593-2a2ee1f91b6b"
   },
   "outputs": [
    {
     "name": "stdout",
     "output_type": "stream",
     "text": [
      "Elements from top to bottom:  400 300 200 100 Top after pushes:  400\n",
      "Remove an element from top:  400\n",
      "Elements from top to bottom:  300 200 100 Is the stack empty? False\n",
      "Number of element in the stack? 3\n"
     ]
    }
   ],
   "source": [
    "# Import the ListNode class from the ListNode.py file\n",
    "from DataStructureCode.LinkedStack import *\n",
    "stack = LinkedStack()\n",
    "stack.push(100); stack.push(200); stack.push(300); stack.push(400)\n",
    "stack.printStack()\n",
    "print(\"Top after pushes: \", stack.top())\n",
    "print(\"Remove an element from top: \", stack.pop())\n",
    "stack.printStack()\n",
    "print('Is the stack empty?', stack.isEmpty())\n",
    "print('Number of element in the stack?', stack.size())"
   ]
  },
  {
   "cell_type": "markdown",
   "metadata": {
    "id": "Vm-KGr9wPYTK"
   },
   "source": [
    "# Exercises!"
   ]
  },
  {
   "cell_type": "markdown",
   "metadata": {
    "id": "aCz_Cy1oPa6u"
   },
   "source": [
    "## Reverse: Stack\n",
    "\n",
    "1. Create a function that reverses the characters in a string using a stack, without modifying the original stack.\n",
    "\n",
    "2. Create a function that reverses a given stack using another stack.\n",
    "This function should modify the original stack.\n",
    "\n",
    "3. Add a second reverse() method to the ListStack class to implement the behavior described in (2)."
   ]
  },
  {
   "cell_type": "code",
   "execution_count": null,
   "metadata": {
    "colab": {
     "base_uri": "https://localhost:8080/"
    },
    "executionInfo": {
     "elapsed": 14,
     "status": "ok",
     "timestamp": 1744096586908,
     "user": {
      "displayName": "Ewha Biostat",
      "userId": "08955403781798893820"
     },
     "user_tz": -540
    },
    "id": "tSZOAgpDPazI",
    "outputId": "03770de2-58c7-467d-a87d-4801ea6b04be"
   },
   "outputs": [
    {
     "name": "stdout",
     "output_type": "stream",
     "text": [
      "Elements from top to bottom: \n",
      "400 300 200 100 \n",
      "Elements from top to bottom: \n",
      "100 200 300 400 \n"
     ]
    }
   ],
   "source": [
    "stack = ListStack()\n",
    "stack.push(100); stack.push(200); stack.push(300); stack.push(400)\n",
    "stack.printStack()\n",
    "\n",
    "# a function that reverses the characters in a string using a stack, without modifying the original stack.\n",
    "\n",
    "def reverse(original_stack):\n",
    "\n",
    "\n",
    "\n",
    "rev_stack = reverse(stack)\n",
    "rev_stack.printStack()"
   ]
  },
  {
   "cell_type": "code",
   "execution_count": null,
   "metadata": {
    "colab": {
     "base_uri": "https://localhost:8080/"
    },
    "executionInfo": {
     "elapsed": 21,
     "status": "ok",
     "timestamp": 1744098157691,
     "user": {
      "displayName": "Ewha Biostat",
      "userId": "08955403781798893820"
     },
     "user_tz": -540
    },
    "id": "OslzmbofUz7R",
    "outputId": "d1a2dade-7ca7-47f6-d638-cfddeaa76cca"
   },
   "outputs": [
    {
     "name": "stdout",
     "output_type": "stream",
     "text": [
      "Elements from top to bottom: \n",
      "400 300 200 100 \n",
      "Reversed (in-place) stack:\n",
      "Elements from top to bottom: \n",
      "100 200 300 400 \n"
     ]
    }
   ],
   "source": [
    "# A function that reverses a given stack using another stack. This function should modify the original stack.\n",
    "def reverseInPlace(stack):\n",
    "\n",
    "stack = ListStack()\n",
    "stack.push(100); stack.push(200); stack.push(300); stack.push(400)\n",
    "stack.printStack()\n",
    "\n",
    "print(\"Reversed (in-place) stack:\")\n",
    "reverseInPlace(stack)\n",
    "stack.printStack()"
   ]
  },
  {
   "cell_type": "markdown",
   "metadata": {
    "id": "F-HpVpjJJstO"
   },
   "source": [
    "## Fun Example: in your Python, try the below"
   ]
  },
  {
   "cell_type": "code",
   "execution_count": null,
   "metadata": {
    "id": "UNXlokiiJtRn"
   },
   "outputs": [],
   "source": [
    "import webbrowser\n",
    "import time\n",
    "import sys\n",
    "stack = ListStack()\n",
    "urls = [ \"naver.com\", \"daum.net\", \"nate.com\"]\n",
    "# Browser history stacks up in the order in which you visit websites\n",
    "# push url of each visited websites to a stack\n",
    "for url in urls:\n",
    "  stack.push(url)\n",
    "  # When you hit the back button, the previous URL is popped from the stack.\n",
    "\n",
    "while not stack.isEmpty(): # if stack is not empty\n",
    "  url = stack.pop() # pop the previous URL and open the browser\n",
    "  webbrowser.open('http://'+url)"
   ]
  },
  {
   "cell_type": "markdown",
   "metadata": {
    "id": "a6QKGGW_BkJL"
   },
   "source": [
    "## Final Example: Check if a Word is a Palindrome Using Stack\n",
    "Task:\n",
    "\n",
    "A palindrome is a word that reads the same forward and backward (e.g., \"level\", \"madam\").\n",
    "Write a function is_palindrome(word: str) -> bool that uses a stack to check if a word is a palindrome.\n",
    "\n",
    "## ✅ Solution:"
   ]
  },
  {
   "cell_type": "code",
   "execution_count": 1,
   "metadata": {
    "colab": {
     "base_uri": "https://localhost:8080/"
    },
    "executionInfo": {
     "elapsed": 17,
     "status": "ok",
     "timestamp": 1747666243508,
     "user": {
      "displayName": "Maqsudova, Dilorom(인공지능대학 인공지능ㆍ소프트웨어학부) ­",
      "userId": "01244301284359633295"
     },
     "user_tz": -540
    },
    "id": "JQnhVB6rBkJL",
    "outputId": "5894b323-2b81-48a2-c6b5-01c88783e58c"
   },
   "outputs": [
    {
     "name": "stdout",
     "output_type": "stream",
     "text": [
      "True\n",
      "False\n"
     ]
    }
   ],
   "source": [
    "def is_palindrome(word):\n",
    "    stack = []\n",
    "    for char in word:\n",
    "        stack.append(char)\n",
    "\n",
    "    reversed_word = ''\n",
    "    while stack:\n",
    "        reversed_word += stack.pop()\n",
    "\n",
    "    return word == reversed_word\n",
    "\n",
    "# Example usage\n",
    "print(is_palindrome(\"level\"))  # True\n",
    "print(is_palindrome(\"hello\"))  # False\n"
   ]
  },
  {
   "cell_type": "markdown",
   "metadata": {
    "id": "i8bmD6mMBkJL"
   },
   "source": [
    "## 🧠 What the student learns:\n",
    "\n",
    "Using a Stack to Reverse Strings – practical application of LIFO.\n",
    "\n",
    "String Comparison – checks for equality after transformation.\n",
    "\n",
    "Concept of Palindromes – a common beginner-level CS topic."
   ]
  }
 ],
 "metadata": {
  "colab": {
   "provenance": [],
   "toc_visible": true
  },
  "kernelspec": {
   "display_name": "Python 3 (ipykernel)",
   "language": "python",
   "name": "python3"
  },
  "language_info": {
   "codemirror_mode": {
    "name": "ipython",
    "version": 3
   },
   "file_extension": ".py",
   "mimetype": "text/x-python",
   "name": "python",
   "nbconvert_exporter": "python",
   "pygments_lexer": "ipython3",
   "version": "3.12.3"
  }
 },
 "nbformat": 4,
 "nbformat_minor": 0
}