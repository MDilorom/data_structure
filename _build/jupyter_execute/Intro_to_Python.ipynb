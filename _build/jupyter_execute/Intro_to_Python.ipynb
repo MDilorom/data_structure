{
 "cells": [
  {
   "cell_type": "markdown",
   "metadata": {
    "id": "5vW_ps6ZqZVe"
   },
   "source": [
    "# Intro_to_Python\n"
   ]
  },
  {
   "cell_type": "markdown",
   "metadata": {
    "id": "axhnjGX3kP8m"
   },
   "source": [
    "## Link Google Drive to Google Colab"
   ]
  },
  {
   "cell_type": "code",
   "execution_count": 1,
   "metadata": {
    "colab": {
     "base_uri": "https://localhost:8080/"
    },
    "id": "39UxiFashW_R",
    "outputId": "975f2e43-c19a-4ea9-cf36-6ad9a694ad58"
   },
   "outputs": [
    {
     "ename": "ModuleNotFoundError",
     "evalue": "No module named 'google.colab'",
     "output_type": "error",
     "traceback": [
      "\u001b[1;31m---------------------------------------------------------------------------\u001b[0m",
      "\u001b[1;31mModuleNotFoundError\u001b[0m                       Traceback (most recent call last)",
      "Cell \u001b[1;32mIn[1], line 1\u001b[0m\n\u001b[1;32m----> 1\u001b[0m \u001b[38;5;28;01mfrom\u001b[39;00m \u001b[38;5;21;01mgoogle\u001b[39;00m\u001b[38;5;21;01m.\u001b[39;00m\u001b[38;5;21;01mcolab\u001b[39;00m \u001b[38;5;28;01mimport\u001b[39;00m drive\n\u001b[0;32m      2\u001b[0m drive\u001b[38;5;241m.\u001b[39mmount(\u001b[38;5;124m'\u001b[39m\u001b[38;5;124m/content/drive\u001b[39m\u001b[38;5;124m'\u001b[39m)\n",
      "\u001b[1;31mModuleNotFoundError\u001b[0m: No module named 'google.colab'"
     ]
    }
   ],
   "source": [
    "from google.colab import drive\n",
    "drive.mount('/content/drive')"
   ]
  },
  {
   "cell_type": "markdown",
   "metadata": {
    "id": "t5ZyetRmnsIs"
   },
   "source": [
    "\n",
    "* `sys.path` is a list of directories that Python searches when looking for modules.\n",
    "* By using `append()`, the directory `/content/drive/MyDrive/2025_Teaching/2025_Data_Structures/Code` is added to this list, allowing Python to import modules or packages located in that path.\n"
   ]
  },
  {
   "cell_type": "markdown",
   "metadata": {
    "id": "P7nEIrGInrC2"
   },
   "source": [
    "## Modifying sys.path to Import External Modules"
   ]
  },
  {
   "cell_type": "code",
   "execution_count": null,
   "metadata": {
    "id": "P0NSbGtdnrSm"
   },
   "outputs": [],
   "source": [
    "import sys\n",
    "sys.path.append(\"D:\\DataStructureCode\")"
   ]
  },
  {
   "cell_type": "markdown",
   "metadata": {
    "id": "otAFNkKaisjO"
   },
   "source": [
    "# Introduction to Python Programming\n",
    "\n",
    "## Python Data Type"
   ]
  },
  {
   "cell_type": "code",
   "execution_count": null,
   "metadata": {
    "colab": {
     "base_uri": "https://localhost:8080/"
    },
    "id": "q3bVyZWAhMMQ",
    "outputId": "90ebe67b-c08f-48d7-d351-73f80e0f8689"
   },
   "outputs": [
    {
     "name": "stdout",
     "output_type": "stream",
     "text": [
      "Type of a:  <class 'int'>\n",
      "Type of b:  <class 'float'>\n",
      "Type of c:  <class 'str'>\n",
      "Type of d:  <class 'bool'>\n",
      "Type of e:  <class 'list'>\n"
     ]
    }
   ],
   "source": [
    "a = 5 # integer\n",
    "b = 5.0 # float: numbers with decimal points\n",
    "c = \"I'm a String\" # string\n",
    "d = True # boolean: true (1) or false (0)\n",
    "e = [\"apple\", \"banana\", \"grapes\"] # list\n",
    "\n",
    "print(\"Type of a: \", type(a))\n",
    "print(\"Type of b: \", type(b))\n",
    "print(\"Type of c: \", type(c))\n",
    "print(\"Type of d: \", type(d))\n",
    "print(\"Type of e: \", type(e))"
   ]
  },
  {
   "cell_type": "markdown",
   "metadata": {
    "id": "q-F_0mOei5IO"
   },
   "source": [
    "## List in Python\n"
   ]
  },
  {
   "cell_type": "code",
   "execution_count": null,
   "metadata": {
    "colab": {
     "base_uri": "https://localhost:8080/"
    },
    "id": "x5t1gtbTiC8l",
    "outputId": "d394bdbc-816d-463b-8ffa-dd3290fe8d89"
   },
   "outputs": [
    {
     "name": "stdout",
     "output_type": "stream",
     "text": [
      "first and third element of the list: apple , grapes\n",
      "the number of elements with the specified value:  2\n",
      "Add an element at the end of the list:\n",
      " ['apple', 'banana', 'grapes', 'banana', 'strawberry']\n",
      "Add an element at specified position of the list:\n",
      " ['apple', 'banana', 'watermelon', 'grapes', 'banana', 'strawberry']\n"
     ]
    }
   ],
   "source": [
    "f = [\"apple\", \"banana\", \"grapes\", \"banana\"]\n",
    "print(\"first and third element of the list:\", f[0],\",\", f[2])\n",
    "print(\"the number of elements with the specified value: \",f.count(\"banana\"))\n",
    "f.append(\"strawberry\")\n",
    "print(\"Add an element at the end of the list:\\n\",f)\n",
    "f.insert(2,\"watermelon\")\n",
    "print(\"Add an element at specified position of the list:\\n\",f)"
   ]
  },
  {
   "cell_type": "markdown",
   "metadata": {
    "id": "caeYnyHajJyl"
   },
   "source": [
    "## List Slicing in Python"
   ]
  },
  {
   "cell_type": "code",
   "execution_count": null,
   "metadata": {
    "colab": {
     "base_uri": "https://localhost:8080/"
    },
    "id": "5YrnMhqPjHt2",
    "outputId": "d203cbd1-b67f-45c7-e93e-6dcf8aece4b0"
   },
   "outputs": [
    {
     "name": "stdout",
     "output_type": "stream",
     "text": [
      "Elements from f[2] through  f[3]:  ['grapes', 'banana']\n",
      "Elements from f[1] through  f[2]:  ['banana', 'grapes']\n",
      "Elements from f[0] through  f[1]:  ['apple', 'banana']\n",
      "Element f[-2] or equivalently f[2] in this case:  grapes\n"
     ]
    }
   ],
   "source": [
    "f = [\"apple\", \"banana\", \"grapes\", \"banana\"]\n",
    "print(\"Elements from f[2] through  f[3]: \",f[2:])\n",
    "print(\"Elements from f[1] through  f[2]: \",f[1:3])\n",
    "print(\"Elements from f[0] through  f[1]: \",f[:2])\n",
    "# Index -1 represents the last element, -N represents the first element (N is the length of the list)\n",
    "print(\"Element f[-2] or equivalently f[2] in this case: \",f[-2])"
   ]
  },
  {
   "cell_type": "markdown",
   "metadata": {
    "id": "N2EZ26wjjOZd"
   },
   "source": [
    "## Any or All"
   ]
  },
  {
   "cell_type": "code",
   "execution_count": null,
   "metadata": {
    "colab": {
     "base_uri": "https://localhost:8080/"
    },
    "id": "LhXI5FjJjQKs",
    "outputId": "227a22ff-4cbf-403e-9926-3e8ba5406203"
   },
   "outputs": [
    {
     "name": "stdout",
     "output_type": "stream",
     "text": [
      "Is anything true?:  False\n",
      "Is anything true?:  True\n",
      "Is everything true?:  True\n",
      "Is everything true?:  False\n"
     ]
    }
   ],
   "source": [
    "print(\"Is anything true?: \", any([False, False, False, False]))\n",
    "print(\"Is anything true?: \", any([False, True, False, False]))\n",
    "print(\"Is everything true?: \", all([True, True, True, True]))\n",
    "print(\"Is everything true?: \", all([True, True, True, False]))"
   ]
  },
  {
   "cell_type": "markdown",
   "metadata": {
    "id": "8j26-mInjQD1"
   },
   "source": [
    "## Arithmetic Operators"
   ]
  },
  {
   "cell_type": "code",
   "execution_count": null,
   "metadata": {
    "colab": {
     "base_uri": "https://localhost:8080/"
    },
    "id": "RrgIDpssjP71",
    "outputId": "91863650-030b-4ab9-f769-1a1e8fb78694"
   },
   "outputs": [
    {
     "name": "stdout",
     "output_type": "stream",
     "text": [
      "a + b =  13\n",
      "a - b =  7\n",
      "a * b =  30\n",
      "a / b =  3.3333333333333335\n",
      "a // b =  3\n",
      "a % b =  1\n",
      "a ^ b =  1000\n"
     ]
    }
   ],
   "source": [
    "a, b = 10, 3\n",
    "print(\"a + b = \", a + b) # Addition\n",
    "print(\"a - b = \", a - b) # Subtraction\n",
    "print(\"a * b = \", a * b) # Multiplication\n",
    "print(\"a / b = \", a / b) # Division\n",
    "print(\"a // b = \", a // b) # Floor division: rounds the result down to the nearest whole number\n",
    "print(\"a % b = \", a % b) # Modulus\n",
    "print(\"a ^ b = \", a ** b) # Exponentiation"
   ]
  },
  {
   "cell_type": "markdown",
   "metadata": {
    "id": "WsOYtunrjPzl"
   },
   "source": [
    "## Comparison Operators"
   ]
  },
  {
   "cell_type": "code",
   "execution_count": null,
   "metadata": {
    "colab": {
     "base_uri": "https://localhost:8080/"
    },
    "id": "OQzyMbRAjPme",
    "outputId": "8f8eb6d2-b225-424d-efa2-90507878b595"
   },
   "outputs": [
    {
     "name": "stdout",
     "output_type": "stream",
     "text": [
      "Is a and b equal:  True\n",
      "Is a and c not equal:  True\n",
      "Is a is bigger than c:  True\n",
      "Is a is bigger than d:  True\n",
      "Is a is bigger than equal to b:  True\n",
      "Is integer 5 and string 5 equal:  False\n"
     ]
    }
   ],
   "source": [
    "a, b, c, d, e, f = 5, 5, 3, 7, \"5\", \"apple\"\n",
    "print(\"Is a and b equal: \", a == b)\n",
    "print(\"Is a and c not equal: \", a != c)\n",
    "print(\"Is a is bigger than c: \", a > c)\n",
    "print(\"Is a is bigger than d: \", a < d)\n",
    "print(\"Is a is bigger than equal to b: \", a >= b)\n",
    "print(\"Is integer 5 and string 5 equal: \", a == e)"
   ]
  },
  {
   "cell_type": "markdown",
   "metadata": {
    "id": "ujIPjyd8jdTl"
   },
   "source": [
    "## Identity Operators"
   ]
  },
  {
   "cell_type": "code",
   "execution_count": null,
   "metadata": {
    "colab": {
     "base_uri": "https://localhost:8080/"
    },
    "id": "yXOsgnhXjdX9",
    "outputId": "252c8ba1-faed-4291-ded4-82acfeb802f7"
   },
   "outputs": [
    {
     "name": "stdout",
     "output_type": "stream",
     "text": [
      "Is f and g the same object? False\n",
      "Is f and h the same object? True\n",
      "Does f and g has same elements? True\n"
     ]
    }
   ],
   "source": [
    "f = [\"apple\", \"banana\"]\n",
    "g = [\"apple\", \"banana\"]\n",
    "h = f\n",
    "print(\"Is f and g the same object?\", f is g)\n",
    "print(\"Is f and h the same object?\", f is h)\n",
    "print(\"Does f and g has same elements?\", f == g)"
   ]
  },
  {
   "cell_type": "markdown",
   "metadata": {
    "id": "i8HUCxOpjeFV"
   },
   "source": [
    "## Membership Operators"
   ]
  },
  {
   "cell_type": "code",
   "execution_count": null,
   "metadata": {
    "colab": {
     "base_uri": "https://localhost:8080/"
    },
    "id": "EhMrpxEKjdCt",
    "outputId": "61db4531-2b6c-4e2b-80d6-d974ff938fff"
   },
   "outputs": [
    {
     "name": "stdout",
     "output_type": "stream",
     "text": [
      "Is element banana in list f? True\n",
      "Is element banana not in list f? False\n"
     ]
    }
   ],
   "source": [
    "f = [\"apple\", \"banana\", \"grapes\", \"banana\"]\n",
    "print(\"Is element banana in list f?\", \"banana\" in f)\n",
    "print(\"Is element banana not in list f?\", \"banana\" not in f)"
   ]
  },
  {
   "cell_type": "markdown",
   "metadata": {
    "id": "EG_7bmESjc9W"
   },
   "source": [
    "## Logical Operators"
   ]
  },
  {
   "cell_type": "code",
   "execution_count": null,
   "metadata": {
    "colab": {
     "base_uri": "https://localhost:8080/"
    },
    "id": "MDrzB6Mjjc2-",
    "outputId": "f3f7399b-640e-4d0d-98aa-6132c6a3ba04"
   },
   "outputs": [
    {
     "name": "stdout",
     "output_type": "stream",
     "text": [
      "Is 5 < x < 10:  False\n",
      "Is x < 5 or x > 10:  True\n"
     ]
    }
   ],
   "source": [
    "x = 11\n",
    "print(\"Is 5 < x < 10: \", x > 5 and  x < 10)\n",
    "print(\"Is x < 5 or x > 10: \", x < 5 or x > 10)"
   ]
  },
  {
   "cell_type": "markdown",
   "metadata": {
    "id": "eQhtk4mUjcwd"
   },
   "source": [
    "## Range"
   ]
  },
  {
   "cell_type": "code",
   "execution_count": null,
   "metadata": {
    "colab": {
     "base_uri": "https://localhost:8080/"
    },
    "id": "cPge04wpjcn1",
    "outputId": "f8e8dcf0-1d85-4b62-868d-d8cf14ad6839"
   },
   "outputs": [
    {
     "name": "stdout",
     "output_type": "stream",
     "text": [
      "Range object:  range(0, 10)\n",
      "Numbers from 0 to 9, increment by 1:  [0, 1, 2, 3, 4, 5, 6, 7, 8, 9]\n",
      "Numbers from 3 to 9, increment by 1:  [3, 4, 5, 6, 7, 8]\n",
      "Numbers from 3 to 9, increment by 1:  [3, 5, 7]\n",
      "Numbers from 20 to 10, decrement by 2:  [20, 18, 16, 14, 12]\n"
     ]
    }
   ],
   "source": [
    "print(\"Range object: \",range(10))\n",
    "print(\"Numbers from 0 to 9, increment by 1: \",list(range(10)))\n",
    "print(\"Numbers from 3 to 9, increment by 1: \",list(range(3,9)))\n",
    "print(\"Numbers from 3 to 9, increment by 1: \",list(range(3,9,2)))\n",
    "print(\"Numbers from 20 to 10, decrement by 2: \",list(range(20,10,-2)))"
   ]
  },
  {
   "cell_type": "markdown",
   "metadata": {
    "id": "aPsth8HFjcev"
   },
   "source": [
    "## For Loops"
   ]
  },
  {
   "cell_type": "code",
   "execution_count": null,
   "metadata": {
    "colab": {
     "base_uri": "https://localhost:8080/"
    },
    "id": "a9finR-bjcV2",
    "outputId": "3d5db76d-76e9-422a-c838-887a792a26f2"
   },
   "outputs": [
    {
     "name": "stdout",
     "output_type": "stream",
     "text": [
      "apple\n",
      "banana\n",
      "cherry\n",
      "3\n",
      "5\n",
      "7\n"
     ]
    }
   ],
   "source": [
    "fruits = [\"apple\", \"banana\", \"cherry\", \"watermelon\"]\n",
    "for x in fruits:\n",
    "  print(x)\n",
    "  if x == \"cherry\":\n",
    "    break\n",
    "\n",
    "for _ in range(3, 9, 2): # can use any characters instead of _\n",
    "    print(_)\n",
    "    x = 3"
   ]
  },
  {
   "cell_type": "markdown",
   "metadata": {
    "id": "z22ruPKFjcLu"
   },
   "source": [
    "## If else"
   ]
  },
  {
   "cell_type": "code",
   "execution_count": null,
   "metadata": {
    "colab": {
     "base_uri": "https://localhost:8080/"
    },
    "id": "DcDvh2Gjj921",
    "outputId": "7b7ca8b5-4c74-4a5c-e6be-49d525bbd5cf"
   },
   "outputs": [
    {
     "name": "stdout",
     "output_type": "stream",
     "text": [
      "a is greater than b\n"
     ]
    }
   ],
   "source": [
    "a, b = 200, 33\n",
    "if a < b:\n",
    "    print(\"b is greater than a\")\n",
    "elif a == b:\n",
    "    print(\"a and b are equal\")\n",
    "else:\n",
    "    print(\"a is greater than b\")"
   ]
  },
  {
   "cell_type": "markdown",
   "metadata": {
    "id": "VCkku30mj9xu"
   },
   "source": [
    "## While"
   ]
  },
  {
   "cell_type": "code",
   "execution_count": null,
   "metadata": {
    "colab": {
     "base_uri": "https://localhost:8080/"
    },
    "id": "Ku5KIt40j9rV",
    "outputId": "0aff2c46-2783-451f-9c87-34fded037d11"
   },
   "outputs": [
    {
     "name": "stdout",
     "output_type": "stream",
     "text": [
      "i is less than 6, i is equal to  1\n",
      "i is less than 6, i is equal to  2\n",
      "Exit while loop as i is equal to 3\n"
     ]
    }
   ],
   "source": [
    "i = 0 # if you try with i = 10, then while loop won't run\n",
    "while i < 6:\n",
    "  i = i + 1\n",
    "  if i == 3:\n",
    "    print(\"Exit while loop as i is equal to 3\")\n",
    "    break\n",
    "  else:\n",
    "    print(\"i is less than 6, i is equal to \", i) # try with i=10"
   ]
  },
  {
   "cell_type": "markdown",
   "metadata": {
    "id": "E2B-IFjFj9mN"
   },
   "source": [
    "## Functions"
   ]
  },
  {
   "cell_type": "code",
   "execution_count": null,
   "metadata": {
    "colab": {
     "base_uri": "https://localhost:8080/"
    },
    "id": "ojVLOOcQj9he",
    "outputId": "b0a26e40-9186-43bb-af96-4ca5c3e4d43c"
   },
   "outputs": [
    {
     "name": "stdout",
     "output_type": "stream",
     "text": [
      "Output of my_function() is:  banana\n"
     ]
    }
   ],
   "source": [
    "def my_function(food):\n",
    "    return(food[1])\n",
    "fruits = [\"apple\", \"banana\", \"cherry\"]\n",
    "output = my_function(fruits)\n",
    "print(\"Output of my_function() is: \", output)"
   ]
  },
  {
   "cell_type": "markdown",
   "metadata": {
    "id": "usFwYo4DpkIc"
   },
   "source": [
    "## Plotting"
   ]
  },
  {
   "cell_type": "code",
   "execution_count": null,
   "metadata": {
    "colab": {
     "base_uri": "https://localhost:8080/",
     "height": 452
    },
    "id": "v2xJWlxxpkBU",
    "outputId": "1733c203-baff-4a9c-f175-b00e46dc412c"
   },
   "outputs": [
    {
     "data": {
      "image/png": "[encoded data removed]",
      "text/plain": [
       "<Figure size 640x480 with 1 Axes>"
      ]
     },
     "metadata": {},
     "output_type": "display_data"
    }
   ],
   "source": [
    "# importing the required module\n",
    "import matplotlib.pyplot as plt\n",
    "\n",
    "# create data\n",
    "x = list(range(10,100,10))\n",
    "y1 = list(range(100,10,-10))\n",
    "y2 = list(range(10,100,10))\n",
    "\n",
    "# create plot\n",
    "plt.clf() # clear the current figure if any\n",
    "plt.plot(x, y1, label = \"line 1\") # plot lines\n",
    "plt.plot(x, y2, label = \"line 2\") # plot lines\n",
    "plt.legend() # add legend\n",
    "plt.title('Relationship between x and y') # add title\n",
    "plt.show() # show the plot"
   ]
  },
  {
   "cell_type": "markdown",
   "metadata": {
    "id": "grsCcuQhj9cN"
   },
   "source": [
    "# Classes and Objects\n",
    "## Attributes\n",
    "\n",
    "* `class` creates a user-defined data structure.\n",
    "* Attributes: the variables that belong to a class.\n",
    "* Attributes can be accessed using the dot (.) operator.\n"
   ]
  },
  {
   "cell_type": "code",
   "execution_count": null,
   "metadata": {
    "colab": {
     "base_uri": "https://localhost:8080/"
    },
    "id": "lsWE3pDnj9Wt",
    "outputId": "6ad461e0-3873-4f7e-f42b-19d0a2c882e2"
   },
   "outputs": [
    {
     "name": "stdout",
     "output_type": "stream",
     "text": [
      "My name is Ewha\n",
      "I'm 25 years old\n"
     ]
    }
   ],
   "source": [
    "class MyClass: # a class in its simplest form\n",
    "  name = \"Ewha\" # attribute: a variable that belong to a class\n",
    "  age = 25\n",
    "myobject = MyClass() # an object in its simplest form\n",
    "print(\"My name is\", myobject.name)\n",
    "print(\"I'm\", myobject.age, \"years old\")"
   ]
  },
  {
   "cell_type": "markdown",
   "metadata": {
    "id": "JBIEyBdyj9RV"
   },
   "source": [
    "## `self` Parameter\n",
    "\n",
    "* A reference to the current instance of the class, and is used to access variables that belongs to the class.\n"
   ]
  },
  {
   "cell_type": "code",
   "execution_count": null,
   "metadata": {
    "colab": {
     "base_uri": "https://localhost:8080/"
    },
    "id": "WKLkD4KDj9L1",
    "outputId": "7d63238f-247c-47b8-8d77-95fc4af51695"
   },
   "outputs": [
    {
     "name": "stdout",
     "output_type": "stream",
     "text": [
      "My name is Ewha\n",
      "I'm 25 years old\n",
      "Access name variable inside object: Ewha\n",
      "Access age variable inside object: 25\n"
     ]
    }
   ],
   "source": [
    "class MyClass:\n",
    "  name = \"Ewha\"\n",
    "  age = 25\n",
    "  def myname(self): # a function that belongs to the class\n",
    "    print(\"My name is\", self.name)\n",
    "    print(\"I'm\", self.age, \"years old\")\n",
    "myobject = MyClass()\n",
    "myobject.myname()\n",
    "print(\"Access name variable inside object:\", myobject.name)\n",
    "print(\"Access age variable inside object:\", myobject.age)\n"
   ]
  },
  {
   "cell_type": "markdown",
   "metadata": {
    "id": "mdSACDNJj9EV"
   },
   "source": [
    "## `__init__()` Function\n",
    "\n",
    "* A function which is always executed when the `class` is being initiated.\n",
    "\n",
    "* `__init__`: used to initialize objects of a newly created object of a class."
   ]
  },
  {
   "cell_type": "code",
   "execution_count": null,
   "metadata": {
    "colab": {
     "base_uri": "https://localhost:8080/"
    },
    "id": "AqtEaSRyj85t",
    "outputId": "86ff2dd0-5d1a-4f36-b060-8b46818f2d53"
   },
   "outputs": [
    {
     "name": "stdout",
     "output_type": "stream",
     "text": [
      "My name is Amy\n",
      "I'm 55 years old\n",
      "<__main__.MyClass object at 0x7d8e01f3c650>\n"
     ]
    }
   ],
   "source": [
    "class MyClass:\n",
    "  def __init__(self,name,age):\n",
    "    self.name = name\n",
    "    self.age = age\n",
    "\n",
    "  def myname(self):\n",
    "    print(\"My name is\", self.name)\n",
    "    print(\"I'm\", self.age, \"years old\")\n",
    "\n",
    "myobject = MyClass(name=\"Amy\", age=55)\n",
    "myobject.myname()\n",
    "print(myobject)"
   ]
  },
  {
   "cell_type": "markdown",
   "metadata": {
    "id": "ARjnMMxhmdcV"
   },
   "source": [
    "## Default values for `__init__()` Function\n"
   ]
  },
  {
   "cell_type": "code",
   "execution_count": null,
   "metadata": {
    "colab": {
     "base_uri": "https://localhost:8080/"
    },
    "id": "Sl2hgnsWmdhM",
    "outputId": "4468c1f1-a33e-4af7-f07d-8e92d405ae9f"
   },
   "outputs": [
    {
     "name": "stdout",
     "output_type": "stream",
     "text": [
      "My name is Ewha\n",
      "I'm 25 years old\n"
     ]
    }
   ],
   "source": [
    "class MyClass:\n",
    "  def __init__(self, name=\"Ewha\", age=25):\n",
    "    self.name = name\n",
    "    self.age = age\n",
    "\n",
    "  def myname(self):\n",
    "    print(\"My name is\", self.name)\n",
    "    print(\"I'm\", self.age, \"years old\")\n",
    "\n",
    "myobject = MyClass()\n",
    "myobject.myname()"
   ]
  },
  {
   "cell_type": "markdown",
   "metadata": {
    "id": "SOzWXAHCmdRl"
   },
   "source": [
    "## `__init__()` Function and `self` Parameter\n",
    "\n",
    "* It does not have to be named `self`, but it has to be the first parameter of any function in the class.\n"
   ]
  },
  {
   "cell_type": "code",
   "execution_count": null,
   "metadata": {
    "colab": {
     "base_uri": "https://localhost:8080/"
    },
    "id": "F3B4DfGamdLU",
    "outputId": "6d28a14f-f1bd-482a-c947-cbbba4b5138a"
   },
   "outputs": [
    {
     "name": "stdout",
     "output_type": "stream",
     "text": [
      "My name is Apple\n",
      "I'm 55 years old\n"
     ]
    }
   ],
   "source": [
    "class MyClass:\n",
    "  def __init__(hey, name=\"Ewha\", age=25):\n",
    "    hey.name = name\n",
    "    hey.age = age\n",
    "\n",
    "  def myname(hey):\n",
    "    print(\"My name is\", hey.name)\n",
    "    print(\"I'm\", hey.age, \"years old\")\n",
    "\n",
    "myobject = MyClass(name=\"Apple\", age=55)\n",
    "myobject.myname()\n"
   ]
  },
  {
   "cell_type": "markdown",
   "metadata": {
    "id": "jwR5JqLpmgDM"
   },
   "source": [
    "## `__str__()` Function\n",
    "\n",
    "* Used to define how a class object should be represented as a string."
   ]
  },
  {
   "cell_type": "code",
   "execution_count": null,
   "metadata": {
    "colab": {
     "base_uri": "https://localhost:8080/"
    },
    "id": "4wf8v37Umsr1",
    "outputId": "bb44c277-029d-485c-8a09-367a7889fa86"
   },
   "outputs": [
    {
     "name": "stdout",
     "output_type": "stream",
     "text": [
      "<__main__.MyClass object at 0x7d8e01f3ddd0>\n",
      "My name is Apple and I'm 55 years old.\n"
     ]
    }
   ],
   "source": [
    "print(myobject)\n",
    "\n",
    "class MyClass:\n",
    "  def __init__(self,name,age):\n",
    "    self.name = name\n",
    "    self.age = age\n",
    "\n",
    "  def __str__(self):\n",
    "    return f\"My name is {self.name} and I'm {self.age} years old.\"\n",
    "\n",
    "myobject = MyClass(name=\"Apple\", age=55)\n",
    "print(myobject)"
   ]
  },
  {
   "cell_type": "markdown",
   "metadata": {
    "id": "Nb0LZ6_8mdEl"
   },
   "source": [
    "## Modify Object Variables and Delete Object"
   ]
  },
  {
   "cell_type": "code",
   "execution_count": null,
   "metadata": {
    "colab": {
     "base_uri": "https://localhost:8080/"
    },
    "id": "6IiJMrd0muNN",
    "outputId": "c3d91393-cc20-4979-efbd-3f8b383e4255"
   },
   "outputs": [
    {
     "name": "stdout",
     "output_type": "stream",
     "text": [
      "age before modifying =  55\n",
      "age after modifying =  40\n"
     ]
    }
   ],
   "source": [
    "print(\"age before modifying = \", myobject.age)\n",
    "myobject.age = 40\n",
    "print(\"age after modifying = \", myobject.age)\n",
    "del myobject.age\n",
    "# print(\"age after deleting = \", myobject.age) # will return 'AttributeError: myobject' object has no attribute 'age'\n",
    "del myobject\n",
    "# print(myobject) # will return NameError: name 'myobject' is not defined"
   ]
  },
  {
   "cell_type": "markdown",
   "metadata": {
    "id": "rsQvBQDkmuE9"
   },
   "source": [
    "## Module: Importing\n",
    "\n",
    "* A file containing a set of functions you want to include in your application.\n",
    "* Create `mymodule.py` file including the below:"
   ]
  },
  {
   "cell_type": "code",
   "execution_count": null,
   "metadata": {
    "id": "QxZ1hid2mt0E"
   },
   "outputs": [],
   "source": [
    "# <mymodule.py>\n",
    "def myname(name):\n",
    "  print(\"This is a function inside of a file mymodule.py\")\n",
    "  print(\"My name is\", name)\n",
    "\n",
    "def myage(age):\n",
    "  print(\"I'm\", age, \"years old\")"
   ]
  },
  {
   "cell_type": "markdown",
   "metadata": {
    "id": "wIQQ_IPonakV"
   },
   "source": [
    "* `Import` the module named `mymodule`, and call `myname` and `myage` function from `mymodule`.\n"
   ]
  },
  {
   "cell_type": "code",
   "execution_count": null,
   "metadata": {
    "colab": {
     "base_uri": "https://localhost:8080/"
    },
    "id": "15ygWFK7naDM",
    "outputId": "6f2f1bb9-d946-463e-9952-78ed0aca6481"
   },
   "outputs": [
    {
     "name": "stdout",
     "output_type": "stream",
     "text": [
      "This is a function inside of a file mymodule.py\n",
      "My name is Ewha\n",
      "I'm 25 years old\n"
     ]
    }
   ],
   "source": [
    "import mymodule\n",
    "mymodule.myname(name=\"Ewha\")\n",
    "mymodule.myage(age=25)"
   ]
  },
  {
   "cell_type": "markdown",
   "metadata": {
    "id": "1usl8ljcnZ7z"
   },
   "source": [
    "## Module: Importing\n",
    "* You can choose to import only parts from a module, by using the `from` keyword."
   ]
  },
  {
   "cell_type": "code",
   "execution_count": null,
   "metadata": {
    "colab": {
     "base_uri": "https://localhost:8080/"
    },
    "id": "j7_6VLK7nZz2",
    "outputId": "4e2d38ac-5aec-4780-b81a-355b302b93d6"
   },
   "outputs": [
    {
     "name": "stdout",
     "output_type": "stream",
     "text": [
      "This is a function inside of a file mymodule.py\n",
      "My name is Ewha\n"
     ]
    }
   ],
   "source": [
    "from mymodule import myname\n",
    "mymodule.myname(name=\"Ewha\")\n",
    "# mymodule.myage(age=25) # a function myage is not imported"
   ]
  },
  {
   "cell_type": "markdown",
   "metadata": {
    "id": "vck5qf-snZrd"
   },
   "source": [
    "## Module: Re-naming a Module\n",
    "* You can create an nickname when you import a module, by using the `as` keyword."
   ]
  },
  {
   "cell_type": "code",
   "execution_count": null,
   "metadata": {
    "colab": {
     "base_uri": "https://localhost:8080/"
    },
    "id": "pH3J9_2tpGZN",
    "outputId": "ec13e493-5cb1-47fc-e222-2ae783d60c7e"
   },
   "outputs": [
    {
     "name": "stdout",
     "output_type": "stream",
     "text": [
      "This is a function inside of a file mymodule.py\n",
      "My name is Ewha\n",
      "I'm 25 years old\n"
     ]
    }
   ],
   "source": [
    "import mymodule as md\n",
    "md.myname(name=\"Ewha\")\n",
    "md.myage(age=25)"
   ]
  },
  {
   "cell_type": "markdown",
   "metadata": {
    "id": "UbpcTbOOAqPc",
    "jp-MarkdownHeadingCollapsed": true
   },
   "source": [
    "## Final Example: Statistics Calculator for Numbers\n",
    "*Task\n",
    "\n",
    "Write a Python program that:\n",
    "\n",
    "-Asks the user to input a list of numbers (comma-separated),\n",
    "-Converts the input into a list of integers,\n",
    "\n",
    "Outputs:\n",
    "\n",
    "Maximum\n",
    "Minimum\n",
    "Average (mean)\n",
    "Median\n",
    "\n"
   ]
  },
  {
   "cell_type": "markdown",
   "metadata": {
    "id": "tEL9gCwtAqPc"
   },
   "source": [
    "## ✅ Solution:\n"
   ]
  },
  {
   "cell_type": "code",
   "execution_count": 1,
   "metadata": {
    "colab": {
     "base_uri": "https://localhost:8080/"
    },
    "executionInfo": {
     "elapsed": 41217,
     "status": "ok",
     "timestamp": 1747666052723,
     "user": {
      "displayName": "Maqsudova, Dilorom(인공지능대학 인공지능ㆍ소프트웨어학부) ­",
      "userId": "01244301284359633295"
     },
     "user_tz": -540
    },
    "id": "B4z5DHOpAqPc",
    "outputId": "b4361f92-3775-4d7e-dddf-cc3989b16da3"
   },
   "outputs": [
    {
     "name": "stdout",
     "output_type": "stream",
     "text": [
      "Enter numbers separated by commas: 1,45,325,69,21,3,7\n",
      "📊 Statistics for the entered numbers:\n",
      "Maximum: 325\n",
      "Minimum: 1\n",
      "Average: 67.29\n",
      "Median: 21\n"
     ]
    }
   ],
   "source": [
    "def get_numbers():\n",
    "    raw = input(\"Enter numbers separated by commas: \")  # e.g. 5,1,9,2,3\n",
    "    nums = [int(x.strip()) for x in raw.split(',')]\n",
    "    return nums\n",
    "\n",
    "def compute_statistics(numbers):\n",
    "    numbers.sort()\n",
    "    n = len(numbers)\n",
    "    mean = sum(numbers) / n\n",
    "    median = numbers[n//2] if n % 2 == 1 else (numbers[n//2 - 1] + numbers[n//2]) / 2\n",
    "    return max(numbers), min(numbers), round(mean, 2), median\n",
    "\n",
    "# Main program logic\n",
    "nums = get_numbers()\n",
    "max_val, min_val, avg, med = compute_statistics(nums)\n",
    "\n",
    "print(\"📊 Statistics for the entered numbers:\")\n",
    "print(\"Maximum:\", max_val)\n",
    "print(\"Minimum:\", min_val)\n",
    "print(\"Average:\", avg)\n",
    "print(\"Median:\", med)\n"
   ]
  },
  {
   "cell_type": "markdown",
   "metadata": {
    "id": "9t_OnnZRAqPc"
   },
   "source": [
    "## 🧠 What the student learns:\n",
    "Reading input from the user (input)\n",
    "\n",
    "Converting strings into integers\n",
    "\n",
    "List manipulation and sorting\n",
    "\n",
    "Basic math computations: mean and median\n",
    "\n",
    "Conditional logic (for median)"
   ]
  },
  {
   "cell_type": "code",
   "execution_count": null,
   "metadata": {
    "id": "wsOw1K6fAqPc"
   },
   "outputs": [],
   "source": []
  },
  {
   "cell_type": "code",
   "execution_count": null,
   "metadata": {
    "id": "dwBj89SXAqPc"
   },
   "outputs": [],
   "source": []
  },
  {
   "cell_type": "code",
   "execution_count": null,
   "metadata": {
    "id": "GiCJ4l_OAqPd"
   },
   "outputs": [],
   "source": []
  }
 ],
 "metadata": {
  "colab": {
   "provenance": []
  },
  "kernelspec": {
   "display_name": "Python 3 (ipykernel)",
   "language": "python",
   "name": "python3"
  },
  "language_info": {
   "codemirror_mode": {
    "name": "ipython",
    "version": 3
   },
   "file_extension": ".py",
   "mimetype": "text/x-python",
   "name": "python",
   "nbconvert_exporter": "python",
   "pygments_lexer": "ipython3",
   "version": "3.12.3"
  }
 },
 "nbformat": 4,
 "nbformat_minor": 0
}