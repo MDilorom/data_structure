{
 "cells": [
  {
   "cell_type": "markdown",
   "metadata": {
    "id": "5vW_ps6ZqZVe"
   },
   "source": [
    "# Array"
   ]
  },
  {
   "cell_type": "markdown",
   "metadata": {
    "id": "axhnjGX3kP8m"
   },
   "source": [
    "## Link Google Drive to Google Colab"
   ]
  },
  {
   "cell_type": "code",
   "execution_count": null,
   "metadata": {
    "colab": {
     "base_uri": "https://localhost:8080/"
    },
    "executionInfo": {
     "elapsed": 27924,
     "status": "ok",
     "timestamp": 1742882578052,
     "user": {
      "displayName": "Ewha Biostat",
      "userId": "08955403781798893820"
     },
     "user_tz": -540
    },
    "id": "39UxiFashW_R",
    "outputId": "47024c05-8676-441d-f7be-37a7ba4495b9"
   },
   "outputs": [
    {
     "name": "stdout",
     "output_type": "stream",
     "text": [
      "Mounted at /content/drive\n"
     ]
    }
   ],
   "source": [
    "from google.colab import drive\n",
    "drive.mount('/content/drive')"
   ]
  },
  {
   "cell_type": "markdown",
   "metadata": {
    "id": "k-sTHlVBhDYd"
   },
   "source": [
    "## Modify sys.path to Import External Modules"
   ]
  },
  {
   "cell_type": "markdown",
   "metadata": {
    "id": "ofwQQRxSi9qQ"
   },
   "source": []
  },
  {
   "cell_type": "code",
   "execution_count": null,
   "metadata": {
    "id": "kmVGyNeRhDQ3"
   },
   "outputs": [],
   "source": [
    "import sys\n",
    "sys.path.append(\"/content/drive/MyDrive/2025_Teaching/2025_Data_Structures/Code\")"
   ]
  },
  {
   "cell_type": "markdown",
   "metadata": {
    "id": "hFrqK5fC550O"
   },
   "source": [
    "# Import Array.py Module"
   ]
  },
  {
   "cell_type": "code",
   "execution_count": null,
   "metadata": {
    "colab": {
     "base_uri": "https://localhost:8080/"
    },
    "executionInfo": {
     "elapsed": 12,
     "status": "ok",
     "timestamp": 1742886185352,
     "user": {
      "displayName": "Ewha Biostat",
      "userId": "08955403781798893820"
     },
     "user_tz": -540
    },
    "id": "FiusF9GQ55iB",
    "outputId": "e97b58b2-695f-43dd-d549-4ee9e5176b5e"
   },
   "outputs": [
    {
     "name": "stdout",
     "output_type": "stream",
     "text": [
      "Original array: [1 2 3 4 5]\n",
      "After insertion: [1 2 3 4 5 6]\n",
      "Element found at position: 4\n",
      "After removal: [1 2 3 4 6]\n"
     ]
    },
    {
     "data": {
      "text/plain": [
       "2"
      ]
     },
     "execution_count": 7,
     "metadata": {},
     "output_type": "execute_result"
    }
   ],
   "source": [
    "# Import the Array class from the Array.py file\n",
    "# from Array import *\n",
    "from Array import MyArray\n",
    "\n",
    "# Create an instance of the Array class\n",
    "arr = MyArray([1, 2, 3, 4, 5])\n",
    "\n",
    "# Print the original array\n",
    "print(\"Original array:\", arr.array)\n",
    "\n",
    "# Insert 6 at the last index (after the last element)\n",
    "arr.myInsert(6, len(arr.array))  # Inserts 6 at the end\n",
    "print(\"After insertion:\", arr.array)\n",
    "\n",
    "# Remove element 5 from the array\n",
    "arr.myRemove(5)  # Removes element 5 from the array\n",
    "print(\"After removal:\", arr.array)\n",
    "\n",
    "# Find index for element 3\n",
    "arr.myIndex(3)"
   ]
  },
  {
   "cell_type": "markdown",
   "metadata": {
    "id": "p3b3bDBni-gY"
   },
   "source": [
    "# Example 1: Time Complexity\n",
    "\n",
    "What is the time complexity of access, search, insertion, deletion of array data structure? Explain why.\n"
   ]
  },
  {
   "cell_type": "code",
   "execution_count": 2,
   "metadata": {
    "id": "9ppWH1oJnAxE"
   },
   "outputs": [],
   "source": [
    "import numpy as np\n",
    "\n",
    "class MyArray:\n",
    "    def __init__(self, input_list):\n",
    "        self.array = np.array(input_list, dtype=\"i\")\n",
    "\n",
    "    def myInsert(self, x, i):\n",
    "        new_array = np.empty(len(self.array) + 1, dtype=\"i\")\n",
    "        new_array[:len(self.array)] = self.array\n",
    "        n = len(new_array)\n",
    "\n",
    "        # Shift elements to the right\n",
    "        for idx in range(n - 2, i - 1, -1):\n",
    "            new_array[idx + 1] = new_array[idx]\n",
    "\n",
    "        new_array[i] = x\n",
    "        self.array = new_array  # Update self.array\n",
    "        return self.array\n",
    "\n",
    "    def myIndex(self, x):\n",
    "        n = len(self.array)\n",
    "        for idx in range(n):\n",
    "            if self.array[idx] == x:\n",
    "                return idx\n",
    "        return -1  # If the key is not found\n",
    "\n",
    "    def myDelete(self, i):\n",
    "        n = len(self.array)\n",
    "\n",
    "        # Shift elements to the left\n",
    "        for idx in range(i + 1, n):\n",
    "            self.array[idx - 1] = self.array[idx]\n",
    "\n",
    "        self.array = self.array[:n - 1]  # Update self.array\n",
    "        return self.array\n",
    "\n",
    "    def myRemove(self, x):\n",
    "        i = self.myIndex(x)\n",
    "        if i == -1:\n",
    "            print(\"Element not found.\")\n",
    "            return self.array\n",
    "\n",
    "        print(\"Element found at position:\", i)\n",
    "        self.myDelete(i)\n",
    "        return self.array"
   ]
  },
  {
   "cell_type": "markdown",
   "metadata": {},
   "source": [
    "# Answer:\n",
    "Arrays support constant-time access because elements are stored in contiguous memory and accessed by index.\n",
    "\n",
    "Linear search must be performed unless the array is sorted and a binary search is used.\n",
    "\n",
    "Inserting an element requires shifting all subsequent elements to the right.\n",
    "\n",
    "Deleting requires shifting elements to the left to maintain contiguity."
   ]
  },
  {
   "cell_type": "markdown",
   "metadata": {
    "id": "BiqXuIWY_kwM"
   },
   "source": [
    "# Example 2\n",
    "\n",
    "Explore and compare the differences between Python lists and array data structures. Use online resources and feel free to utilize generative AI chatbots to aid in your understanding. Consider the following aspects in your exploration:\n",
    "\n",
    "* **Storage structure**: How do Python lists and arrays store data in memory? Are they contiguous or non-contiguous?\n",
    "\n",
    "* **Performance**: How do their performance characteristics differ for various operations such as indexing, insertion, and deletion?\n",
    "\n",
    "* **Type of elements**: Are Python lists and arrays restricted to a single data type, or can they store elements of mixed types? How does this affect performance?\n",
    "\n",
    "* **Dynamic vs Static**: How do Python lists (dynamic arrays) and static arrays differ in terms of resizing and memory allocation?\n",
    "\n",
    "* **Access and manipulation**: How do access and manipulation operations differ between Python lists and arrays?\n"
   ]
  },
  {
   "cell_type": "markdown",
   "metadata": {
    "id": "SFS0ebkT_knM"
   },
   "source": [
    "# Answer:\n",
    "\n",
    "* **Storage:**\n",
    "   \n",
    "Python lists store elements as object references in non-contiguous memory. Arrays store data in contiguous memory blocks, making access faster and more efficient.\n",
    "\n",
    "* **Performance:**\n",
    "   \n",
    "Lists are slower for large-scale computations due to dynamic typing and memory overhead. Arrays perform better for numerical operations because of fixed data types and optimized memory use.\n",
    "\n",
    "* **Element Types:**\n",
    "  \n",
    "Lists can hold mixed data types like integers, strings, or objects. Arrays require a single data type, which boosts performance and reduces memory usage.\n",
    "\n",
    "* **Resizing:**\n",
    "   \n",
    "Python lists automatically resize when elements are added or removed. Arrays have fixed sizes, so resizing requires creating a new array.\n",
    "\n",
    "* **Manipulation:**\n",
    "  \n",
    "Lists rely on loops or comprehensions for element-wise operations. Arrays support fast vectorized operations, eliminating the need for explicit loops."
   ]
  },
  {
   "cell_type": "markdown",
   "metadata": {
    "id": "xyX0RlbqAQqA"
   },
   "source": [
    "\n",
    "# Example 3\n",
    "\n",
    "Create a function that output unique elements in a given array. Unique means distinct elements. What is the time complexity of the algorithm?\n"
   ]
  },
  {
   "cell_type": "code",
   "execution_count": null,
   "metadata": {
    "colab": {
     "base_uri": "https://localhost:8080/"
    },
    "executionInfo": {
     "elapsed": 6,
     "status": "ok",
     "timestamp": 1742886189800,
     "user": {
      "displayName": "Ewha Biostat",
      "userId": "08955403781798893820"
     },
     "user_tz": -540
    },
    "id": "P0NSbGtdnrSm",
    "outputId": "fabdd95c-3dc2-4763-fe17-c4c96a299c12"
   },
   "outputs": [
    {
     "data": {
      "text/plain": [
       "[1, 2, 3, 4, 5, 6, 7]"
      ]
     },
     "execution_count": 8,
     "metadata": {},
     "output_type": "execute_result"
    }
   ],
   "source": [
    "# def unique(arr):\n",
    "\n",
    "a = [1, 2, 2, 3, 4, 5, 5, 6, 7, 7]\n",
    "unique(a)\n"
   ]
  },
  {
   "cell_type": "markdown",
   "metadata": {
    "id": "tuQ1MsZFg9Zv"
   },
   "source": [
    "# Example 4\n",
    "\n",
    "Create a function that returns how many number of elements are odd and even elements in the array.\n"
   ]
  },
  {
   "cell_type": "code",
   "execution_count": 4,
   "metadata": {
    "id": "CjEEiGleg9Cz"
   },
   "outputs": [
    {
     "name": "stdout",
     "output_type": "stream",
     "text": [
      "Even numbers: 4\n",
      "Odd numbers: 5\n"
     ]
    }
   ],
   "source": [
    "def EvenOdd(arr):\n",
    "    even_count = 0\n",
    "    odd_count = 0\n",
    "\n",
    "    for num in arr:\n",
    "        if num % 2 == 0:\n",
    "            even_count += 1\n",
    "        else:\n",
    "            odd_count += 1\n",
    "\n",
    "    print(f\"Even numbers: {even_count}\")\n",
    "    print(f\"Odd numbers: {odd_count}\")\n",
    "\n",
    "a = [1, 2, 2, 3, 4, 5, 5, 6, 7]\n",
    "EvenOdd(a)\n"
   ]
  },
  {
   "cell_type": "markdown",
   "metadata": {},
   "source": [
    "## Final Example: Replace Even Numbers with Zero\n",
    "Task:\n",
    "\n",
    "Write a function that takes a list of integers and replaces all even numbers in the list with 0, using indexing and a for loop.\n",
    "\n",
    "## ✅ Sample Solution:"
   ]
  },
  {
   "cell_type": "code",
   "execution_count": null,
   "metadata": {},
   "outputs": [],
   "source": [
    "def replace_even_with_zero(lst):\n",
    "    for i in range(len(lst)):\n",
    "        if lst[i] % 2 == 0:\n",
    "            lst[i] = 0\n",
    "    return lst\n",
    "\n",
    "# Example usage\n",
    "numbers = [4, 7, 2, 9, 6, 5]\n",
    "print(\"🔢 Original list:\", numbers)\n",
    "print(\"🧹 After replacement:\", replace_even_with_zero(numbers))\n"
   ]
  },
  {
   "cell_type": "markdown",
   "metadata": {},
   "source": [
    "## 🧠 What it teaches:\n",
    "\n",
    "Indexing (lst[i])\n",
    "\n",
    "Conditional logic (if)\n",
    "\n",
    "Looping with for and range()\n",
    "\n",
    "Modifying list elements\n",
    "\n",
    "Returning the modified list"
   ]
  }
 ],
 "metadata": {
  "colab": {
   "authorship_tag": "ABX9TyNhC5Iuo4ymriIuWS1Sxjih",
   "provenance": [],
   "toc_visible": true
  },
  "kernelspec": {
   "display_name": "Python 3 (ipykernel)",
   "language": "python",
   "name": "python3"
  },
  "language_info": {
   "codemirror_mode": {
    "name": "ipython",
    "version": 3
   },
   "file_extension": ".py",
   "mimetype": "text/x-python",
   "name": "python",
   "nbconvert_exporter": "python",
   "pygments_lexer": "ipython3",
   "version": "3.12.3"
  }
 },
 "nbformat": 4,
 "nbformat_minor": 4
}
